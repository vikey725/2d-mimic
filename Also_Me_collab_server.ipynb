{
  "nbformat": 4,
  "nbformat_minor": 0,
  "metadata": {
    "accelerator": "GPU",
    "colab": {
      "name": "Also-Me_collab_server.ipynb",
      "provenance": [],
      "collapsed_sections": []
    },
    "kernelspec": {
      "display_name": "Python 3",
      "name": "python3"
    },
    "language_info": {
      "name": "python"
    }
  },
  "cells": [
    {
      "cell_type": "code",
      "metadata": {
        "id": "y7JXpkq4-RLr"
      },
      "source": [
        "!cd /content\n",
        "!rm -rf *\n",
        "!git clone https://github.com/vikey725/Also-Me.git\n",
        "!git clone https://github.com/facebookresearch/detectron2.git\n",
        "!pip install -r /content/Also-Me/requirements.txt\n",
        "!pip install -e detectron2\n",
        "!pip install 'git+https://github.com/facebookresearch/fvcore.git'\n",
        "!wget https://dl.fbaipublicfiles.com/densepose/densepose_rcnn_R_50_FPN_WC1_s1x/173862049/model_final_289019.pkl -P /content/Also-Me/checkpoints/\n",
        "!wget https://github.com/italojs/facial-landmarks-recognition/blob/master/shape_predictor_68_face_landmarks.dat?raw=true -O /content/Also-Me/checkpoints/shape_predictor_68_face_landmarks.dat\n",
        "%cd /content/Also-Me/\n",
        "from google.colab import output\n",
        "output.clear()\n",
        "print(\"Requirements download complete\")"
      ],
      "execution_count": null,
      "outputs": []
    },
    {
      "cell_type": "code",
      "metadata": {
        "id": "tMPNT00TbhAn"
      },
      "source": [
        "## Signup to ngrok (https://dashboard.ngrok.com/signup) and get the auth token - replace below.\n",
        "%env NGROK_AUTH_TOKEN = PASTE_YOUR_NGROK_TOKEN_HERE"
      ],
      "execution_count": null,
      "outputs": []
    },
    {
      "cell_type": "code",
      "metadata": {
        "id": "voH4PqvUGZ_5"
      },
      "source": [
        "!python -m scripts.remote_server_multiprocess"
      ],
      "execution_count": null,
      "outputs": []
    }
  ]
}
